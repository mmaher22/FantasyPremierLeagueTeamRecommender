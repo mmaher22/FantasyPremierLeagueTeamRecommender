{
 "cells": [
  {
   "cell_type": "code",
   "execution_count": 6,
   "metadata": {},
   "outputs": [],
   "source": [
    "import pandas as pd\n",
    "import numpy as np\n",
    "from sklearn.svm import SVR\n",
    "from sklearn import linear_model\n",
    "from sklearn.linear_model import Ridge\n",
    "from sklearn.ensemble import RandomForestRegressor\n",
    "from sklearn.ensemble import GradientBoostingRegressor\n",
    "from sklearn.preprocessing import OneHotEncoder\n",
    "from sklearn.metrics import mean_squared_error\n",
    "from sklearn.pipeline import Pipeline\n",
    "from sklearn.pipeline import make_pipeline\n",
    "from sklearn.model_selection import train_test_split\n",
    "from sklearn.model_selection import cross_val_score\n",
    "from sklearn.model_selection import GridSearchCV\n",
    "import math"
   ]
  },
  {
   "cell_type": "code",
   "execution_count": 7,
   "metadata": {},
   "outputs": [],
   "source": [
    "#Read Input Dataset\n",
    "data = pd.read_csv('mergedDataset.csv')\n",
    "data = data[['id', 'player_position', 'player_name', 'last10_ratio_cleanSheets_opp', 'last10_ratio_cleanSheets_own', 'last10_ratio_wins_opp', 'last10_ratio_wins_own', 'last3_assists', 'last3_goals', 'last3_ratio_points', 'last3_ycards', 'opp_team_rank', 'player_team_rank', 'player_value', 'ratio_assists', 'ratio_attempted_passes', 'ratio_big_chancesCreated', 'ratio_big_chancesMiss', 'ratio_creativity', 'ratio_dribbles', 'ratio_fouls', 'ratio_goals_conceded_opp_team', 'ratio_goals_conceded_player_team', 'ratio_goals_opp_team', 'ratio_goals_player_team', 'ratio_goals_scored', 'ratio_key_passes', 'ratio_leading_goal', 'ratio_minutes_played', 'ratio_offsides', 'ratio_open_playcross', 'ratio_own_goals', 'ratio_penalties_conceded', 'ratio_penalties_missed', 'ratio_penalties_saved', 'ratio_saves', 'ratio_selection', 'ratio_tackles', 'ratio_threat', 'week_no', 'season', 'week_points']]"
   ]
  },
  {
   "cell_type": "code",
   "execution_count": 8,
   "metadata": {},
   "outputs": [],
   "source": [
    "#Split Training & Testing Set\n",
    "data_refined = data.loc[:,[i for i in list(data.columns) if i not in ['id', 'player_name', 'player_team', 'season']]]\n",
    "#one-hot encoding for player position\n",
    "data_refined = pd.get_dummies(data_refined, columns = ['player_position', 'week_no'], drop_first=True)\n",
    "X_train, X_test, y_train, y_test = train_test_split(data_refined.loc[:, data_refined.columns != 'week_points'], data_refined['week_points'], test_size=0.2, random_state=0)"
   ]
  },
  {
   "cell_type": "code",
   "execution_count": 22,
   "metadata": {},
   "outputs": [
    {
     "name": "stdout",
     "output_type": "stream",
     "text": [
      "4.47289249649587 5.5117007313920015\n"
     ]
    }
   ],
   "source": [
    "from sklearn.tree import DecisionTreeRegressor\n",
    "reg = DecisionTreeRegressor(max_depth= 10,max_features=5,min_samples_split=5).fit(X_train, y_train)\n",
    "y_train_pred = reg.predict(X_train)\n",
    "y_test_pred = reg.predict(X_test)\n",
    "tr_err = mean_squared_error(y_train_pred, y_train)\n",
    "ts_err = mean_squared_error(y_test_pred, y_test)\n",
    "print(tr_err, ts_err)"
   ]
  },
  {
   "cell_type": "code",
   "execution_count": 24,
   "metadata": {},
   "outputs": [
    {
     "name": "stdout",
     "output_type": "stream",
     "text": [
      "5.20732132036818 5.76644460473168\n"
     ]
    }
   ],
   "source": [
    "from sklearn.neighbors import KNeighborsRegressor\n",
    "reg = KNeighborsRegressor(n_neighbors = 20).fit(X_train, y_train)\n",
    "y_train_pred = reg.predict(X_train)\n",
    "y_test_pred = reg.predict(X_test)\n",
    "tr_err = mean_squared_error(y_train_pred, y_train)\n",
    "ts_err = mean_squared_error(y_test_pred, y_test)\n",
    "print(tr_err, ts_err)"
   ]
  },
  {
   "cell_type": "code",
   "execution_count": 4,
   "metadata": {},
   "outputs": [
    {
     "name": "stderr",
     "output_type": "stream",
     "text": [
      "/home/nesma/anaconda3/envs/python/lib/python3.6/site-packages/sklearn/svm/base.py:196: FutureWarning: The default value of gamma will change from 'auto' to 'scale' in version 0.22 to account better for unscaled features. Set gamma explicitly to 'auto' or 'scale' to avoid this warning.\n",
      "  \"avoid this warning.\", FutureWarning)\n"
     ]
    },
    {
     "name": "stdout",
     "output_type": "stream",
     "text": [
      "4.712858386407785 6.7099105369066985\n"
     ]
    }
   ],
   "source": [
    "reg = SVR(kernel = 'rbf').fit(X_train, y_train)\n",
    "y_train_pred = reg.predict(X_train)\n",
    "y_test_pred = reg.predict(X_test)\n",
    "tr_err = mean_squared_error(y_train_pred, y_train)\n",
    "ts_err = mean_squared_error(y_test_pred, y_test)\n",
    "print(tr_err, ts_err)"
   ]
  },
  {
   "cell_type": "code",
   "execution_count": 11,
   "metadata": {},
   "outputs": [
    {
     "name": "stdout",
     "output_type": "stream",
     "text": [
      "4.31711591929299 4.632763765635577\n"
     ]
    }
   ],
   "source": [
    "reg = GradientBoostingRegressor().fit(X_train, y_train)\n",
    "y_train_pred = reg.predict(X_train)\n",
    "y_test_pred = reg.predict(X_test)\n",
    "tr_err = mean_squared_error(y_train_pred, y_train)\n",
    "ts_err = mean_squared_error(y_test_pred, y_test)\n",
    "print(tr_err, ts_err)"
   ]
  },
  {
   "cell_type": "code",
   "execution_count": 14,
   "metadata": {},
   "outputs": [
    {
     "name": "stdout",
     "output_type": "stream",
     "text": [
      "4.077395316035628 4.629113655831487\n"
     ]
    }
   ],
   "source": [
    "reg = RandomForestRegressor(random_state=0, criterion = 'mse', n_estimators = 100, min_samples_split = 15, n_jobs = -1,max_depth=8, min_samples_leaf=10).fit(X_train, y_train)\n",
    "\n",
    "y_train_pred = reg.predict(X_train)\n",
    "y_test_pred = reg.predict(X_test)\n",
    "tr_err = mean_squared_error(y_train_pred, y_train)\n",
    "ts_err = mean_squared_error(y_test_pred, y_test)\n",
    "print(tr_err, ts_err)\n",
    "\n"
   ]
  },
  {
   "cell_type": "code",
   "execution_count": null,
   "metadata": {},
   "outputs": [],
   "source": []
  },
  {
   "cell_type": "code",
   "execution_count": null,
   "metadata": {},
   "outputs": [],
   "source": [
    "# #dict to store results:\n",
    "# results_train = {}\n",
    "# results_test = {}"
   ]
  },
  {
   "cell_type": "code",
   "execution_count": 10,
   "metadata": {},
   "outputs": [],
   "source": [
    "# #Random Forest\n",
    "# reg = RandomForestRegressor(random_state=0, criterion = 'mse')\n",
    "# #Apply grid search for best parameters\n",
    "# params = {'randomforestregressor__max_features' : [0.3, 0.5, 0.7],\n",
    "#           'randomforestregressor__n_estimators' : range(100, 800, 200),\n",
    "#           'randomforestregressor__min_samples_split' : range(2, 10)}\n",
    "# pipe = make_pipeline(reg)\n",
    "# grid = GridSearchCV(pipe, param_grid = params, scoring='mean_squared_error', n_jobs=-1, iid=False, cv=5)\n",
    "# reg = grid.fit(X_train, y_train)\n",
    "# print('Best MSE: ', grid.best_score_)\n",
    "# print('Best Parameters: ', grid.best_estimator_)\n",
    "\n",
    "# y_train_pred = reg.predict(X_train)\n",
    "# y_test_pred = reg.predict(X_test)\n",
    "\n",
    "# results_train['random_forest'] = mean_squared_error(y_train_pred, y_train)\n",
    "# results_test['random_forest'] = mean_squared_error(y_test_pred, y_test)"
   ]
  },
  {
   "cell_type": "code",
   "execution_count": null,
   "metadata": {},
   "outputs": [],
   "source": []
  }
 ],
 "metadata": {
  "kernelspec": {
   "display_name": "Python 3",
   "language": "python",
   "name": "python3"
  },
  "language_info": {
   "codemirror_mode": {
    "name": "ipython",
    "version": 3
   },
   "file_extension": ".py",
   "mimetype": "text/x-python",
   "name": "python",
   "nbconvert_exporter": "python",
   "pygments_lexer": "ipython3",
   "version": "3.6.6"
  }
 },
 "nbformat": 4,
 "nbformat_minor": 2
}
