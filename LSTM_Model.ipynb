{
 "cells": [
  {
   "cell_type": "code",
   "execution_count": 13,
   "metadata": {},
   "outputs": [],
   "source": [
    "import numpy as np\n",
    "import pandas as pd\n",
    "from matplotlib import pyplot\n",
    "from sklearn.preprocessing import MinMaxScaler\n",
    "from sklearn.preprocessing import LabelEncoder\n",
    "from sklearn.metrics import mean_squared_error\n",
    "from keras.models import Sequential\n",
    "from keras.layers import Dropout, Activation, Dense , LSTM, Flatten ,TimeDistributed\n",
    "from keras.layers.convolutional import Conv1D , MaxPooling1D\n",
    "from sklearn.metrics import mean_squared_error\n",
    "from sklearn.pipeline import Pipeline\n",
    "from sklearn.pipeline import make_pipeline\n",
    "from sklearn.model_selection import train_test_split\n",
    "from sklearn.model_selection import cross_val_score\n",
    "from sklearn.model_selection import GridSearchCV\n",
    "import math\n",
    "\n",
    "\n",
    "\n",
    "\n",
    "#Read Input Dataset\n",
    "data = pd.read_csv('mergedDataset.csv')\n",
    "data = data[['id', 'player_position', 'player_name', 'last10_ratio_cleanSheets_opp', 'last10_ratio_cleanSheets_own', 'last10_ratio_wins_opp', 'last10_ratio_wins_own', 'last3_assists', 'last3_goals', 'last3_ratio_points', 'last3_ycards', 'opp_team_rank', 'player_team_rank', 'player_value', 'ratio_assists', 'ratio_attempted_passes', 'ratio_big_chancesCreated', 'ratio_big_chancesMiss', 'ratio_creativity', 'ratio_dribbles', 'ratio_fouls', 'ratio_goals_conceded_opp_team', 'ratio_goals_conceded_player_team', 'ratio_goals_opp_team', 'ratio_goals_player_team', 'ratio_goals_scored', 'ratio_key_passes', 'ratio_leading_goal', 'ratio_minutes_played', 'ratio_offsides', 'ratio_open_playcross', 'ratio_own_goals', 'ratio_penalties_conceded', 'ratio_penalties_missed', 'ratio_penalties_saved', 'ratio_saves', 'ratio_selection', 'ratio_tackles', 'ratio_threat', 'week_no', 'season', 'week_points']]\n",
    "\n",
    "\n",
    "#Split Training & Testing Set\n",
    "data_refined = data.loc[:,[i for i in list(data.columns) if i not in ['id', 'player_name', 'player_team', 'season']]]\n",
    "#one-hot encoding for player position\n",
    "data_refined = pd.get_dummies(data_refined, columns = ['player_position', 'week_no'], drop_first=True)\n",
    "X_train, X_test, Y_train, Y_test = train_test_split(data_refined.loc[:, data_refined.columns != 'week_points'], data_refined['week_points'], test_size=0.2, random_state=0)\n",
    "\n",
    "\n",
    "\n"
   ]
  },
  {
   "cell_type": "code",
   "execution_count": 14,
   "metadata": {},
   "outputs": [],
   "source": [
    "def scale_data_toLSTM(X ,Y):\n",
    "    # load dataset\n",
    "    X =  pd.DataFrame(X)\n",
    "    Y = pd.DataFrame(Y)\n",
    "    values = X.values\n",
    "\n",
    "    # integer encode direction\n",
    "    # encoder = LabelEncoder() #Label encoding (one-hot) for player position at column no.= 9\n",
    "    # values[:,position_col] = encoder.fit_transform(values[:,position_col])\n",
    "\n",
    "    # ensure all data is float\n",
    "    values = values.astype('float32')\n",
    "    # normalize features\n",
    "    scaler = MinMaxScaler(feature_range=(0, 1))\n",
    "    X_scaled = scaler.fit_transform(values)\n",
    "    Y_scaled = scaler.fit_transform(Y.values)\n",
    "    \n",
    "    # reshape input to be 3D [samples, timesteps, features] and target data to be [samples,]\n",
    "    X_scaled = X_scaled.reshape((X_scaled.shape[0],1,X_scaled.shape[1]))\n",
    "    Y_scaled = Y_scaled.reshape((Y_scaled.shape[0],))\n",
    "    \n",
    "    return (X_scaled , Y_scaled, scaler)\n",
    "\n",
    "\n"
   ]
  },
  {
   "cell_type": "code",
   "execution_count": 15,
   "metadata": {},
   "outputs": [
    {
     "name": "stderr",
     "output_type": "stream",
     "text": [
      "/home/nesma/anaconda3/envs/python/lib/python3.6/site-packages/sklearn/utils/validation.py:595: DataConversionWarning: Data with input dtype int64 was converted to float64 by MinMaxScaler.\n",
      "  warnings.warn(msg, DataConversionWarning)\n",
      "/home/nesma/anaconda3/envs/python/lib/python3.6/site-packages/sklearn/utils/validation.py:595: DataConversionWarning: Data with input dtype int64 was converted to float64 by MinMaxScaler.\n",
      "  warnings.warn(msg, DataConversionWarning)\n"
     ]
    }
   ],
   "source": [
    "test_X , test_y,scaler = scale_data_toLSTM(X_test, Y_test )\n",
    "train_X , train_y,scaler = scale_data_toLSTM(X_train, Y_train)"
   ]
  },
  {
   "cell_type": "code",
   "execution_count": 16,
   "metadata": {},
   "outputs": [
    {
     "name": "stdout",
     "output_type": "stream",
     "text": [
      "Train on 34657 samples, validate on 8665 samples\n",
      "Epoch 1/15\n",
      "34657/34657 [==============================] - 10s 299us/step - loss: 0.0073 - val_loss: 0.0078\n",
      "Epoch 2/15\n",
      "34657/34657 [==============================] - 9s 250us/step - loss: 0.0066 - val_loss: 0.0072\n",
      "Epoch 3/15\n",
      "34657/34657 [==============================] - 7s 188us/step - loss: 0.0065 - val_loss: 0.0070\n",
      "Epoch 4/15\n",
      "34657/34657 [==============================] - 7s 214us/step - loss: 0.0064 - val_loss: 0.0069\n",
      "Epoch 5/15\n",
      "34657/34657 [==============================] - 7s 192us/step - loss: 0.0064 - val_loss: 0.0069\n",
      "Epoch 6/15\n",
      "34657/34657 [==============================] - 7s 205us/step - loss: 0.0064 - val_loss: 0.0068\n",
      "Epoch 7/15\n",
      "34657/34657 [==============================] - 8s 226us/step - loss: 0.0064 - val_loss: 0.0068\n",
      "Epoch 8/15\n",
      "34657/34657 [==============================] - 7s 208us/step - loss: 0.0063 - val_loss: 0.0067\n",
      "Epoch 9/15\n",
      "34657/34657 [==============================] - 7s 202us/step - loss: 0.0063 - val_loss: 0.0067\n",
      "Epoch 10/15\n",
      "34657/34657 [==============================] - 7s 191us/step - loss: 0.0063 - val_loss: 0.0067\n",
      "Epoch 11/15\n",
      "34657/34657 [==============================] - 7s 206us/step - loss: 0.0063 - val_loss: 0.0066\n",
      "Epoch 12/15\n",
      "34657/34657 [==============================] - 7s 205us/step - loss: 0.0063 - val_loss: 0.0066\n",
      "Epoch 13/15\n",
      "34657/34657 [==============================] - 11s 324us/step - loss: 0.0062 - val_loss: 0.0066\n",
      "Epoch 14/15\n",
      "34657/34657 [==============================] - 9s 256us/step - loss: 0.0062 - val_loss: 0.0066\n",
      "Epoch 15/15\n",
      "34657/34657 [==============================] - 9s 247us/step - loss: 0.0062 - val_loss: 0.0065\n"
     ]
    },
    {
     "data": {
      "image/png": "[encoded data removed]",
      "text/plain": [
       "<Figure size 432x288 with 1 Axes>"
      ]
     },
     "metadata": {
      "needs_background": "light"
     },
     "output_type": "display_data"
    },
    {
     "data": {
      "image/png": "[encoded data removed]",
      "text/plain": [
       "<Figure size 432x288 with 1 Axes>"
      ]
     },
     "metadata": {
      "needs_background": "light"
     },
     "output_type": "display_data"
    }
   ],
   "source": [
    "\n",
    "multi_model = Sequential()\n",
    "multi_model.add(LSTM(100, input_shape=(train_X.shape[1], train_X.shape[2])))\n",
    "multi_model.add(Dense(1))\n",
    "multi_model.compile(loss='mse', optimizer='adam')\n",
    "multi_history = multi_model.fit(train_X, train_y, epochs=15, batch_size=100, validation_data=(test_X, test_y), verbose=1, shuffle=False)\n",
    "\n",
    "\n",
    "pyplot.plot(multi_history.history['loss'], label='train Loss')\n",
    "pyplot.plot(multi_history.history['val_loss'], label='test Loss')\n",
    "pyplot.legend()\n",
    "pyplot.show()\n",
    "\n",
    "\n",
    "\n",
    "\n",
    "yhat = multi_model.predict(test_X)\n",
    "pyplot.plot(yhat, label='predict')\n",
    "pyplot.plot(test_y, label='true')\n",
    "pyplot.legend()\n",
    "pyplot.show()\n",
    "\n",
    "\n",
    "\n"
   ]
  },
  {
   "cell_type": "code",
   "execution_count": 17,
   "metadata": {},
   "outputs": [
    {
     "name": "stderr",
     "output_type": "stream",
     "text": [
      "/home/nesma/anaconda3/envs/python/lib/python3.6/site-packages/sklearn/utils/validation.py:595: DataConversionWarning: Data with input dtype int64 was converted to float64 by MinMaxScaler.\n",
      "  warnings.warn(msg, DataConversionWarning)\n",
      "/home/nesma/anaconda3/envs/python/lib/python3.6/site-packages/sklearn/utils/validation.py:595: DataConversionWarning: Data with input dtype int64 was converted to float64 by MinMaxScaler.\n",
      "  warnings.warn(msg, DataConversionWarning)\n"
     ]
    },
    {
     "data": {
      "text/plain": [
       "4.774520664241943"
      ]
     },
     "execution_count": 17,
     "metadata": {},
     "output_type": "execute_result"
    }
   ],
   "source": [
    "test_X , test_y,scaler = scale_data_toLSTM(X_test, Y_test )\n",
    "train_X , train_y,scaler = scale_data_toLSTM(X_train, Y_train)\n",
    "\n",
    "test_X = test_X.reshape((test_X.shape[0], test_X.shape[2]))\n",
    "# invert scaling for forecast\n",
    "inv_yhat = np.concatenate((yhat, test_X[:, 1:]), axis=1)\n",
    "inv_yhat = scaler.inverse_transform(inv_yhat)\n",
    "inv_yhat = inv_yhat[:,0]\n",
    "# invert scaling for actual\n",
    "test_y = test_y.reshape((len(test_y), 1))\n",
    "inv_y = np.concatenate((test_y, test_X[:, 1:]), axis=1)\n",
    "inv_y = scaler.inverse_transform(inv_y)\n",
    "inv_y = inv_y[:,0]\n",
    "mse = mean_squared_error(inv_y, inv_yhat)\n",
    "mse"
   ]
  },
  {
   "cell_type": "code",
   "execution_count": 24,
   "metadata": {},
   "outputs": [
    {
     "data": {
      "text/plain": [
       "4.732633473893638"
      ]
     },
     "execution_count": 24,
     "metadata": {},
     "output_type": "execute_result"
    }
   ],
   "source": []
  }
 ],
 "metadata": {
  "kernelspec": {
   "display_name": "Python 3",
   "language": "python",
   "name": "python3"
  },
  "language_info": {
   "codemirror_mode": {
    "name": "ipython",
    "version": 3
   },
   "file_extension": ".py",
   "mimetype": "text/x-python",
   "name": "python",
   "nbconvert_exporter": "python",
   "pygments_lexer": "ipython3",
   "version": "3.6.6"
  }
 },
 "nbformat": 4,
 "nbformat_minor": 2
}
